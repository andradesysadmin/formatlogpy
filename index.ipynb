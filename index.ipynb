{
 "cells": [
  {
   "cell_type": "markdown",
   "metadata": {},
   "source": [
    "# Fortigate Firewall Formatting Logs\n",
    "\n",
    "Este script foi desenvolvido para extrair informações relevantes dos logs do webfilter de usuários do firewall FortiGate da Fortinet. O objetivo é fornecer uma maneira simples e eficiente de analisar o histórico de navegação de usuários, permitindo verificar sites visitados, se o acesso foi permitido ou bloqueado pelo firewall, detalhes da URL acessada, e outras informações de tráfego relacionadas ao web filter. Com isso, é possível realizar uma análise mais detalhada do comportamento de navegação dentro da rede, facilitando a monitoração e auditoria do tráfego de internet. Este script organiza os dados de maneira legível, ajudando a identificar padrões de acesso, sites bloqueados e permitir o acompanhamento eficaz da utilização da web pelos usuários monitorados."
   ]
  },
  {
   "cell_type": "markdown",
   "metadata": {},
   "source": [
    "Para usar o script através deste notebook atribua a variavel \"input_file\" o caminho do log do webfiltro do usuario que você deseja inspecionar"
   ]
  },
  {
   "cell_type": "code",
   "execution_count": null,
   "metadata": {},
   "outputs": [],
   "source": [
    "import re\n",
    "\n",
    "def informacao_relevante(log_linha):\n",
    "    patterns = {\n",
    "        'user': r'user=\"([^\"]*)\"',\n",
    "        'hostname': r'hostname=\"([^\"]*)\"',\n",
    "        'url': r'url=\"([^\"]*)\"',\n",
    "        'action': r'action=\"([^\"]*)\"'\n",
    "    }\n",
    "\n",
    "    result = {}\n",
    "    \n",
    "    for key, pattern in patterns.items():\n",
    "        match = re.search(pattern, log_linha)\n",
    "        if match:\n",
    "            result[key] = match.group(1)\n",
    "        else:\n",
    "            result[key] = 'N/A'\n",
    "    \n",
    "    return result\n",
    "\n",
    "def main(input_file, output_file):\n",
    "    hostname_count = {}  \n",
    "    last_occurrence = {}  \n",
    "    \n",
    "    with open(input_file, 'r') as infile:\n",
    "        for linha in infile:\n",
    "            info = informacao_relevante(linha)\n",
    "            hostname = info['hostname']\n",
    "            \n",
    "            if hostname in hostname_count:\n",
    "                hostname_count[hostname] += 1\n",
    "            else:\n",
    "                hostname_count[hostname] = 1\n",
    "                last_occurrence[hostname] = info\n",
    "    \n",
    "    # Ordenar os hostnames em ordem alfabética\n",
    "    sorted_hostnames = sorted(hostname_count.keys())\n",
    "    \n",
    "    with open(output_file, 'w') as outfile:\n",
    "        for hostname in sorted_hostnames:\n",
    "            count = hostname_count[hostname]\n",
    "            if count > 0:\n",
    "                info = last_occurrence[hostname]\n",
    "                formatted_linha = (f\"user={info['user']} \"\n",
    "                                   f\"hostname={hostname} action={info['action']} \"\n",
    "                                   f\"url={info['url']} hostnamerepeat={count}\\n\")\n",
    "                outfile.write(formatted_linha)\n",
    "\n",
    "input_file = \"forticloud-traffic-forward-2024-12-02_1031.log\"  \n",
    "output_file = \"relatorio_de_firewall.log\"  \n",
    "\n",
    "# Chama a função principal\n",
    "if __name__ == '__main__':\n",
    "    main(input_file, output_file)"
   ]
  }
 ],
 "metadata": {
  "kernelspec": {
   "display_name": ".venv",
   "language": "python",
   "name": "python3"
  },
  "language_info": {
   "codemirror_mode": {
    "name": "ipython",
    "version": 3
   },
   "file_extension": ".py",
   "mimetype": "text/x-python",
   "name": "python",
   "nbconvert_exporter": "python",
   "pygments_lexer": "ipython3",
   "version": "3.12.3"
  }
 },
 "nbformat": 4,
 "nbformat_minor": 2
}
